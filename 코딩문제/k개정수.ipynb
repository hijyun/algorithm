{
  "nbformat": 4,
  "nbformat_minor": 0,
  "metadata": {
    "colab": {
      "name": "k개정수.ipynb",
      "provenance": [],
      "authorship_tag": "ABX9TyOaEE96HiMGqe1yCxy+BJ/z",
      "include_colab_link": true
    },
    "kernelspec": {
      "name": "python3",
      "display_name": "Python 3"
    },
    "language_info": {
      "name": "python"
    }
  },
  "cells": [
    {
      "cell_type": "markdown",
      "metadata": {
        "id": "view-in-github",
        "colab_type": "text"
      },
      "source": [
        "<a href=\"https://colab.research.google.com/github/hijyun/Python/blob/master/%EC%BD%94%EB%94%A9%EB%AC%B8%EC%A0%9C/k%EA%B0%9C%EC%A0%95%EC%88%98.ipynb\" target=\"_parent\"><img src=\"https://colab.research.google.com/assets/colab-badge.svg\" alt=\"Open In Colab\"/></a>"
      ]
    },
    {
      "cell_type": "markdown",
      "metadata": {
        "id": "jgIPrh2ZwKHH"
      },
      "source": [
        "# k 개의 정수"
      ]
    },
    {
      "cell_type": "markdown",
      "metadata": {
        "id": "evyQYmmXL4p4"
      },
      "source": [
        "http://www.jungol.co.kr/bbs/board.php?bo_table=pbank&wr_id=53&sca=1090"
      ]
    },
    {
      "cell_type": "markdown",
      "metadata": {
        "id": "nUIWmO5sL68X"
      },
      "source": [
        "100개의 정수를 입력받을 수 있는 배열을 선언한 후 정수를 차례로 입력 받다가 -1이 입력되면 입력을 중단하고 -1을 제외한 마지막 세 개의 정수를 출력하는 프로그램을 작성하시오. (입력받은 정수가 -1을 제외하고 3개 미만일 경우에는 -1을 제외하고 입력받은 정수를 모두 출력한다.)"
      ]
    },
    {
      "cell_type": "code",
      "metadata": {
        "id": "g400ws9_n27j"
      },
      "source": [
        "def k_int():\n",
        "  num_list = []\n",
        "\n",
        "  while len(num_list)<100:\n",
        "    num_list.append(int(input()))\n",
        "\n",
        "    if num_list[-1] == -1:\n",
        "      break\n",
        "\n",
        "  #  프린트\n",
        "  for n in num_list[-num_list[0]-1:-1]:\n",
        "    print(n,end=' ')"
      ],
      "execution_count": 42,
      "outputs": []
    },
    {
      "cell_type": "code",
      "metadata": {
        "colab": {
          "base_uri": "https://localhost:8080/",
          "height": 0
        },
        "id": "FEnpd2n8pWMw",
        "outputId": "57dffba7-2d64-408e-f026-97a07047c030"
      },
      "source": [
        "k_int()"
      ],
      "execution_count": 43,
      "outputs": [
        {
          "output_type": "stream",
          "text": [
            "3\n",
            "30\n",
            "20\n",
            "50\n",
            "10\n",
            "60\n",
            "80\n",
            "-1\n",
            "10 60 80 "
          ],
          "name": "stdout"
        }
      ]
    },
    {
      "cell_type": "code",
      "metadata": {
        "colab": {
          "base_uri": "https://localhost:8080/",
          "height": 0
        },
        "id": "0uUjM0TyqVrB",
        "outputId": "adb0f8a2-3a47-4e03-83e8-d59d0b8464c1"
      },
      "source": [
        "k_int()"
      ],
      "execution_count": 35,
      "outputs": [
        {
          "output_type": "stream",
          "text": [
            "5\n",
            "40\n",
            "37\n",
            "68\n",
            "-1\n",
            "40 37 68 "
          ],
          "name": "stdout"
        }
      ]
    }
  ]
}