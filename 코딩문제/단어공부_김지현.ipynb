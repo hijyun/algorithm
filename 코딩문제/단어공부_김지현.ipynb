{
  "nbformat": 4,
  "nbformat_minor": 0,
  "metadata": {
    "colab": {
      "name": "단어공부_김지현.ipynb",
      "provenance": [],
      "authorship_tag": "ABX9TyPPxc0H8v1kAnLTPn2MeBmL",
      "include_colab_link": true
    },
    "kernelspec": {
      "name": "python3",
      "display_name": "Python 3"
    },
    "language_info": {
      "name": "python"
    }
  },
  "cells": [
    {
      "cell_type": "markdown",
      "metadata": {
        "id": "view-in-github",
        "colab_type": "text"
      },
      "source": [
        "<a href=\"https://colab.research.google.com/github/hijyun/simple_coding/blob/master/%EB%8B%A8%EC%96%B4%EA%B3%B5%EB%B6%80_%EA%B9%80%EC%A7%80%ED%98%84.ipynb\" target=\"_parent\"><img src=\"https://colab.research.google.com/assets/colab-badge.svg\" alt=\"Open In Colab\"/></a>"
      ]
    },
    {
      "cell_type": "code",
      "metadata": {
        "id": "rl5DSqFF-jBG"
      },
      "source": [
        "def solution():\n",
        "  word = input('단어 : ').upper()\n",
        "  word_count = []\n",
        "  \n",
        "  if len(word) > 1000000:\n",
        "    word = input('1000000개 아래로 입력해주세요 : ')\n",
        "\n",
        "\n",
        "  for r in set(word):\n",
        "    word_count.append(word.count(r))\n",
        "  \n",
        "  if len(set(word_count)) != len(list(word_count)):\n",
        "    print('?')\n",
        "  else:\n",
        "    max_word = [ r for r in set(word) if word.count(r) == max(word_count)]\n",
        "\n",
        "    print(max_word[0])"
      ],
      "execution_count": null,
      "outputs": []
    },
    {
      "cell_type": "code",
      "metadata": {
        "colab": {
          "base_uri": "https://localhost:8080/"
        },
        "id": "MILzaGSWD143",
        "outputId": "033157aa-fec5-43f1-b994-0317dbbca428"
      },
      "source": [
        "solution()"
      ],
      "execution_count": null,
      "outputs": [
        {
          "output_type": "stream",
          "text": [
            "단어 : Mississipi\n",
            "?\n"
          ],
          "name": "stdout"
        }
      ]
    },
    {
      "cell_type": "code",
      "metadata": {
        "colab": {
          "base_uri": "https://localhost:8080/"
        },
        "id": "Y7v2C5PWE8yv",
        "outputId": "1df93a9a-df9a-4fd6-c855-4e0856b93e63"
      },
      "source": [
        "solution()"
      ],
      "execution_count": null,
      "outputs": [
        {
          "output_type": "stream",
          "text": [
            "단어 : baaa\n",
            "A\n"
          ],
          "name": "stdout"
        }
      ]
    }
  ]
}
