{
 "cells": [
  {
   "cell_type": "code",
   "execution_count": 1,
   "metadata": {
    "id": "Wgw22cCbhLqP"
   },
   "outputs": [],
   "source": [
    "def max_num(k):\n",
    "    a =[]\n",
    "    num = input('Input : ')\n",
    "\n",
    "    for i, n in enumerate(num):\n",
    "      a.append((i,n))\n",
    "    a.sort(key= lambda x : x[1])\n",
    "    a = a[k:]\n",
    "    a.sort(key = lambda x : x[0])\n",
    "    print('Output :',''.join([n for _,n in a]))"
   ]
  },
  {
   "cell_type": "code",
   "execution_count": 2,
   "metadata": {
    "colab": {
     "base_uri": "https://localhost:8080/"
    },
    "id": "pX1ecbcSowqD",
    "outputId": "46559ee5-10d4-4e18-b6e7-acf33726188e"
   },
   "outputs": [
    {
     "name": "stdout",
     "output_type": "stream",
     "text": [
      "Input : 1924\n",
      "Output : 94\n"
     ]
    }
   ],
   "source": [
    "max_num(2)"
   ]
  },
  {
   "cell_type": "code",
   "execution_count": 3,
   "metadata": {
    "colab": {
     "base_uri": "https://localhost:8080/"
    },
    "id": "54btUJSZoxk2",
    "outputId": "11c1a9c7-c85b-4397-9f24-e8a7ce4e8380"
   },
   "outputs": [
    {
     "name": "stdout",
     "output_type": "stream",
     "text": [
      "Input : 1231234\n",
      "Output : 3234\n"
     ]
    }
   ],
   "source": [
    "max_num(3)"
   ]
  },
  {
   "cell_type": "code",
   "execution_count": null,
   "metadata": {
    "id": "WdRUAGo1tYC5"
   },
   "outputs": [],
   "source": []
  }
 ],
 "metadata": {
  "colab": {
   "name": "큰수만들기_김지현.ipynb",
   "provenance": []
  },
  "kernelspec": {
   "display_name": "Python 3",
   "language": "python",
   "name": "python3"
  },
  "language_info": {
   "codemirror_mode": {
    "name": "ipython",
    "version": 3
   },
   "file_extension": ".py",
   "mimetype": "text/x-python",
   "name": "python",
   "nbconvert_exporter": "python",
   "pygments_lexer": "ipython3",
   "version": "3.7.6"
  }
 },
 "nbformat": 4,
 "nbformat_minor": 1
}
