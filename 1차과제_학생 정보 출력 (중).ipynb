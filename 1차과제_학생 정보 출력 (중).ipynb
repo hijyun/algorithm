{
 "cells": [
  {
   "cell_type": "code",
   "execution_count": null,
   "metadata": {},
   "outputs": [],
   "source": [
    "def student_id():\n",
    "    student_id = input('학번: ')\n",
    "    if student_id[3] == '0':\n",
    "        age = 2021 - int('20'+student_id[3:5]) +1\n",
    "    else:\n",
    "        age = 2021 - int('19'+student_id[3:5]) +1\n",
    "    if student_id[6] == 1 and student_id[6] != 's'  and int(student_id[:2])<22 and age >18:\n",
    "        if student_id[-1] == 's':\n",
    "            print('학년: ',21-int(student_id[:2]))\n",
    "        elif student_id[-2] == 's':\n",
    "            print('학년: ',21-int(student_id[:2])-1)\n",
    "        else: \n",
    "             print('학년: ',21-int(student_id[:2])+1)\n",
    "        if student_id[2] == 1:\n",
    "            sex = '여자'\n",
    "        else: \n",
    "            sex = '남자'\n",
    "        print('나이: ',age,'살')\n",
    "        if int(student_id[5:6]) >= 0 and int(student_id[5:7]) <30:\n",
    "            print('학과: ','컴퓨터학과')\n",
    "        elif int(student_id[5:6]) >= 30 and int(student_id[5:7]) <90:\n",
    "            print('학과: ','정보통계학과')\n",
    "        else:\n",
    "            print('학과: ','문헌정보학과')\n",
    "    elif\n",
    "    else:\n",
    "        print('잘못 입력하셨습니다,')"
   ]
  },
  {
   "cell_type": "code",
   "execution_count": null,
   "metadata": {},
   "outputs": [],
   "source": [
    "def student_id():\n",
    "    student_id = input('학번: ')"
   ]
  },
  {
   "cell_type": "code",
   "execution_count": null,
   "metadata": {},
   "outputs": [],
   "source": [
    "student_id()\n",
    "student_id()"
   ]
  },
  {
   "cell_type": "code",
   "execution_count": null,
   "metadata": {},
   "outputs": [],
   "source": [
    "student_id()"
   ]
  },
  {
   "cell_type": "markdown",
   "metadata": {},
   "source": [
    "# 새로운시도"
   ]
  },
  {
   "cell_type": "code",
   "execution_count": null,
   "metadata": {},
   "outputs": [],
   "source": [
    "import pandas as pd\n",
    "def student_id():\n",
    "    student_id = input('학번: ')\n",
    "    df = pd.DataFrame([int(student_id[5:7])], columns = ['학과'])\n",
    "    #성별\n",
    "    df['성별'] = np.where(student_id[2]=='1','여성','남성' )\n",
    "    #학과\n",
    "    conditionlist = [\n",
    "    (df['학과'] >= 0) & (df['Salary'] <30),\n",
    "    (df['학과'] <= 89) ,\n",
    "    (df['학과'] <= 99)]\n",
    "    choicelist = ['컴퓨터학과', '정보통계학과', '문헌정보학과']\n",
    "    df['학과학과'] = np.select(conditionlist, choicelist, default='Not Specified')\n",
    "    #나이\n",
    "    df['나이'] = [2021 - int('20'+student_id[3:5]) +1 if student_id[3] == '0' else 2021 - int('19'+student_id[3:5]) +1]"
   ]
  },
  {
   "cell_type": "markdown",
   "metadata": {},
   "source": [
    "# 새로운시도"
   ]
  },
  {
   "cell_type": "code",
   "execution_count": 6,
   "metadata": {},
   "outputs": [],
   "source": [
    "def student():\n",
    "    student_id = input('학번: ')\n",
    "    year = int(student_id[:2])\n",
    "    dep = int(student_id[5:7])\n",
    "    birth = int(student_id[3:5])\n",
    "\n",
    "    grade = 21-year+1 \n",
    "    sex = '여성' if student_id[2]=='1' else '남성' \n",
    "    age =22-birth if student_id[3] == '0' else  122 -birth \n",
    "    \n",
    "    if dep >= 0 and dep <30:\n",
    "        dep = '컴퓨터학과'\n",
    "    elif dep >= 30 and dep <90:\n",
    "        dep = '정보통계학과'\n",
    "    elif dep >= 90 and dep <100:\n",
    "        dep = '문헌정보학과'\n",
    "        \n",
    "    if year>21 or student_id[2] not in ['0','1'] or age<=18:\n",
    "        print('잘못 입력하였습니다')\n",
    "    else: \n",
    "        if student_id[-1] != 's' and len(student_id)<=7:\n",
    "            grade = 21-year+1\n",
    "            print(\"학년 : {}\\n성별 : {}\\n나이 : {}\\n학과 : {}\".format(grade, sex, age, dep))\n",
    "        elif student_id[-1] == 's'and student_id[-3] != 's':\n",
    "            grade = 21-year-1 if student_id[-2] == 's'else 21-year\n",
    "            print(\"학년 : {}\\n성별 : {}\\n나이 : {}\\n학과 : {}\".format(grade, sex, age, dep))\n",
    "        else:\n",
    "            print('잘못 입력하였습니다')\n",
    "            \n",
    "    \n"
   ]
  },
  {
   "cell_type": "code",
   "execution_count": 4,
   "metadata": {},
   "outputs": [
    {
     "name": "stdout",
     "output_type": "stream",
     "text": [
      "-----------------------------------------------------------------\n",
      "학번: 1819976\n",
      "학년 : 4\n",
      "성별 : 여성\n",
      "나이 : 23\n",
      "학과 : 정보통계학과\n",
      "-----------------------------------------------------------------\n",
      "학번: 1829976\n",
      "잘못 입력하였습니다\n"
     ]
    }
   ],
   "source": [
    "print('-----------------------------------------------------------------')\n",
    "student()\n",
    "print('-----------------------------------------------------------------')\n",
    "student()"
   ]
  },
  {
   "cell_type": "code",
   "execution_count": 11,
   "metadata": {},
   "outputs": [
    {
     "name": "stdout",
     "output_type": "stream",
     "text": [
      "학번: 181047\n",
      "잘못 입력하였습니다\n"
     ]
    }
   ],
   "source": [
    "student()"
   ]
  },
  {
   "cell_type": "code",
   "execution_count": null,
   "metadata": {},
   "outputs": [],
   "source": [
    "student()"
   ]
  },
  {
   "cell_type": "code",
   "execution_count": null,
   "metadata": {},
   "outputs": [],
   "source": [
    "#major = '컴퓨터학과' if 0<dep<30 else '정보통계학과' if 29<dep<90 else '문헌정보학과' \n",
    "\n",
    "#if student_id[-1] == 's' : "
   ]
  },
  {
   "cell_type": "code",
   "execution_count": null,
   "metadata": {},
   "outputs": [],
   "source": [
    "100-77"
   ]
  },
  {
   "cell_type": "code",
   "execution_count": null,
   "metadata": {},
   "outputs": [],
   "source": [
    "k=10"
   ]
  },
  {
   "cell_type": "code",
   "execution_count": null,
   "metadata": {},
   "outputs": [],
   "source": [
    "sex = '1' if k<0 else '2' if k <2 else print('k')"
   ]
  },
  {
   "cell_type": "code",
   "execution_count": null,
   "metadata": {},
   "outputs": [],
   "source": []
  }
 ],
 "metadata": {
  "kernelspec": {
   "display_name": "Python 3",
   "language": "python",
   "name": "python3"
  },
  "language_info": {
   "codemirror_mode": {
    "name": "ipython",
    "version": 3
   },
   "file_extension": ".py",
   "mimetype": "text/x-python",
   "name": "python",
   "nbconvert_exporter": "python",
   "pygments_lexer": "ipython3",
   "version": "3.7.6"
  }
 },
 "nbformat": 4,
 "nbformat_minor": 4
}
