{
  "nbformat": 4,
  "nbformat_minor": 0,
  "metadata": {
    "colab": {
      "name": "elice-pretrack.ipynb",
      "provenance": [],
      "authorship_tag": "ABX9TyPe6aYTtNkE9ohvjgpcvRwa",
      "include_colab_link": true
    },
    "kernelspec": {
      "name": "python3",
      "display_name": "Python 3"
    },
    "language_info": {
      "name": "python"
    }
  },
  "cells": [
    {
      "cell_type": "markdown",
      "metadata": {
        "id": "view-in-github",
        "colab_type": "text"
      },
      "source": [
        "<a href=\"https://colab.research.google.com/github/hijyun/Python/blob/master/elice/elice_pretrack.ipynb\" target=\"_parent\"><img src=\"https://colab.research.google.com/assets/colab-badge.svg\" alt=\"Open In Colab\"/></a>"
      ]
    },
    {
      "cell_type": "markdown",
      "metadata": {
        "id": "6GGoyO1MdGcV"
      },
      "source": [
        "Q.몇 번째 동물이 동물의 왕이 되었을까요?\n",
        "하트여왕의 생일 파티장에 코더랜드 동물 100마리가 모였습니다. 사회자 도도새가 말합니다.\n",
        "\n",
        "\n",
        "“친애하는 동물 여러분! 여기 모인 100마리의 동물들이 대회를 가질 것입니다. 대회에서 이기는 동물은 동물의 왕으로 선발됩니다!”\n",
        "\n",
        "높이 날기 대회, 땅굴 속으로 빨리 숨기 대회, 망고 열매 따기 대회, 물 속에서 숨 참기 대회 등 어떤 대회로 동물의 왕을 뽑을지를 두고서 실랑이가 벌어졌어요.\n",
        "\n",
        "그러자 싸움을 말리기 위해서 도도새가 이렇게 제안합니다.\n",
        "\n",
        "“여러분, 제가 아주 공평한 제안을 하겠습니다. 먼저 여러분께 1번부터 100번까지 무작위로 번호를 나눠드릴 테니 모두 순서대로 원 위에 서주세요. 저는 1번 동물에게 막대기를 드리겠습니다. 막대기를 받은 동물이 다음 동물(2번)을 막대기로 찌르면 그 동물은 원 밖으로 나가고, 막대기는 그다음 동물(3번)에게 전달됩니다. 그렇게 마지막 한 분이 남을 때까지 반복하는 거죠.\n",
        "자, 그럼 2번분은 나가주세요. 그리고 4번분…”\n",
        "\n"
      ]
    },
    {
      "cell_type": "code",
      "metadata": {
        "id": "PZR6BTM7X4RZ",
        "colab": {
          "base_uri": "https://localhost:8080/"
        },
        "outputId": "ebc2bcc0-2d3e-496a-8bbe-72eaddbc1011"
      },
      "source": [
        "num = list(range(1,101,1))\n",
        "print(num)\n",
        "\n",
        "while len(num) != 1 :\n",
        "\n",
        "  num.append(num[0])\n",
        "  del num[0]\n",
        "  del num[0]\n",
        "\n",
        "print(num)"
      ],
      "execution_count": null,
      "outputs": [
        {
          "output_type": "stream",
          "text": [
            "[1, 2, 3, 4, 5, 6, 7, 8, 9, 10, 11, 12, 13, 14, 15, 16, 17, 18, 19, 20, 21, 22, 23, 24, 25, 26, 27, 28, 29, 30, 31, 32, 33, 34, 35, 36, 37, 38, 39, 40, 41, 42, 43, 44, 45, 46, 47, 48, 49, 50, 51, 52, 53, 54, 55, 56, 57, 58, 59, 60, 61, 62, 63, 64, 65, 66, 67, 68, 69, 70, 71, 72, 73, 74, 75, 76, 77, 78, 79, 80, 81, 82, 83, 84, 85, 86, 87, 88, 89, 90, 91, 92, 93, 94, 95, 96, 97, 98, 99, 100]\n",
            "[73]\n"
          ],
          "name": "stdout"
        }
      ]
    },
    {
      "cell_type": "markdown",
      "metadata": {
        "id": "K0eW0keTdOQo"
      },
      "source": [
        " 정답 : https://blog.naver.com/elicer/221474267403"
      ]
    }
  ]
}