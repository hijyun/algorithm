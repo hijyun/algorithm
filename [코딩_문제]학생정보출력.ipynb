{
 "cells": [
  {
   "cell_type": "markdown",
   "metadata": {},
   "source": [
    "# 학생정보출력_난이도 (중)\n",
    "#### input으로 학번을 받을 후 개인정보를 출력\n",
    "#### 학번을 잘못 입력할 경우 “잘못 입력하였습니다” 출력 후 다시 입력\n",
    "    - 학번을 잘못 입력하는 예시 : 21년도 이후 학번, 성별(1,2 제외 다른 숫자), 연생(18세 미만:미성년자), 숫자 7개 초과, s가 3개 이상 등\n",
    "\n",
    "* 앞에서부터 2번째까지 : 학번\n",
    "* 3번째 숫자 : 성별 (1이면 여성, 2이면 남성)\n",
    "* 4~5번째 숫자 : 연생 (1970-2003)\n",
    "* 6~7번째 숫자 : 학과(00-29 : 컴퓨터학과,30-89 : 정보통계학과,90-99 : 문헌정보학과)\n",
    "* 맨 끝에 s가 붙으면 휴학 1년\n",
    "    (없는 경우 휴학 경험X, s가 두개인 경우 휴학 2년이며 2년이 최대)\n",
    "* 예시 > 1819976, 1819735s"
   ]
  },
  {
   "cell_type": "code",
   "execution_count": 1,
   "metadata": {},
   "outputs": [],
   "source": [
    "from datetime import datetime"
   ]
  },
  {
   "cell_type": "code",
   "execution_count": 2,
   "metadata": {},
   "outputs": [],
   "source": [
    "def student():\n",
    "    print('enter키를 입력하면 종료됩니다.')\n",
    "    now_year = int(str(datetime.today().year)[2:]) # 현재 년도 저장\n",
    "    while True:\n",
    "        try:\n",
    "            print('-----------------------------------------------------------------')\n",
    "            sid = input('학번: ')\n",
    "            \n",
    "            #year_id\n",
    "            birth = int(sid[3:5])\n",
    "            if int(sid[:2]) <= int(now_year):\n",
    "                year =int(sid[:2])\n",
    "            else:\n",
    "                raise ValueError\n",
    "    \n",
    "    \n",
    "            #age\n",
    "            age =now_year+1-birth if sid[3] == '0' else 100+now_year-1-birth \n",
    "        \n",
    "        \n",
    "            #sex\n",
    "            if sid[2] =='1':\n",
    "                sex = '여성'\n",
    "            elif sid[2] =='2':\n",
    "                sex = '남성'\n",
    "                \n",
    "                \n",
    "            #department\n",
    "            dep = int(sid[5:7])\n",
    "            if dep >= 0 and dep <30:\n",
    "                dep = '컴퓨터학과'\n",
    "            elif dep <90:\n",
    "                dep = '정보통계학과'\n",
    "            elif dep <100:\n",
    "                dep = '문헌정보학과'\n",
    "            else:\n",
    "                raise ValueError\n",
    "\n",
    "                \n",
    "            #grade & 숫자 개수check\n",
    "            if sid[7:] == 'ss':   #무조건 9개\n",
    "                grade = 21-year-1\n",
    "            elif sid[7:] == 's':  # 무조건 8개\n",
    "                grade = 21-year\n",
    "            elif sid[-1] != 's' and len(sid) == 7:  #7개인지 check\n",
    "                grade = 21-year+1\n",
    "            else:\n",
    "                raise ValueError     \n",
    "                \n",
    "            #잘못된 성별, 나이, 학년 입력 저리\n",
    "            if sid[2] not in ['1','2'] or age<=18 or grade >7:\n",
    "                raise ValueError\n",
    "\n",
    "                \n",
    "        except ValueError:\n",
    "            if sid == '':\n",
    "                print('종료 됩니다.')\n",
    "                break      # 잘못된 학번이 입력될 경우 종료\n",
    "            else : \n",
    "                print('잘못 입력하였습니다')\n",
    "                break \n",
    "\n",
    "                \n",
    "        print(\"학년 : {}학년\\n성별 : {}\\n나이 : {}살\\n학과 : {}\".format(grade, sex, age, dep))"
   ]
  },
  {
   "cell_type": "markdown",
   "metadata": {},
   "source": [
    "## 올바른 학번 입력"
   ]
  },
  {
   "cell_type": "code",
   "execution_count": 3,
   "metadata": {},
   "outputs": [
    {
     "name": "stdout",
     "output_type": "stream",
     "text": [
      "enter키를 입력하면 종료됩니다.\n",
      "-----------------------------------------------------------------\n",
      "학번: 1819934ss\n",
      "학년 : 2학년\n",
      "성별 : 여성\n",
      "나이 : 21살\n",
      "학과 : 정보통계학과\n",
      "-----------------------------------------------------------------\n",
      "학번: 2120099\n",
      "학년 : 1학년\n",
      "성별 : 남성\n",
      "나이 : 22살\n",
      "학과 : 문헌정보학과\n",
      "-----------------------------------------------------------------\n",
      "학번: 1719802\n",
      "학년 : 5학년\n",
      "성별 : 여성\n",
      "나이 : 22살\n",
      "학과 : 컴퓨터학과\n",
      "-----------------------------------------------------------------\n",
      "학번: \n",
      "종료 됩니다.\n"
     ]
    }
   ],
   "source": [
    "student()"
   ]
  },
  {
   "cell_type": "markdown",
   "metadata": {},
   "source": [
    "## 잘못된 학번 입력"
   ]
  },
  {
   "cell_type": "code",
   "execution_count": 4,
   "metadata": {},
   "outputs": [
    {
     "name": "stdout",
     "output_type": "stream",
     "text": [
      "enter키를 입력하면 종료됩니다.\n",
      "-----------------------------------------------------------------\n",
      "학번: 1839934\n",
      "잘못 입력하였습니다\n"
     ]
    }
   ],
   "source": [
    "student()  #성별 잘못 입력"
   ]
  },
  {
   "cell_type": "code",
   "execution_count": 5,
   "metadata": {},
   "outputs": [
    {
     "name": "stdout",
     "output_type": "stream",
     "text": [
      "enter키를 입력하면 종료됩니다.\n",
      "-----------------------------------------------------------------\n",
      "학번: 2219934\n",
      "잘못 입력하였습니다\n"
     ]
    }
   ],
   "source": [
    "student()  #학번 잘못 입력"
   ]
  },
  {
   "cell_type": "code",
   "execution_count": 6,
   "metadata": {},
   "outputs": [
    {
     "name": "stdout",
     "output_type": "stream",
     "text": [
      "enter키를 입력하면 종료됩니다.\n",
      "-----------------------------------------------------------------\n",
      "학번: 1810434\n",
      "잘못 입력하였습니다\n"
     ]
    }
   ],
   "source": [
    "student() #생년 잘못 입력"
   ]
  },
  {
   "cell_type": "code",
   "execution_count": 7,
   "metadata": {},
   "outputs": [
    {
     "name": "stdout",
     "output_type": "stream",
     "text": [
      "enter키를 입력하면 종료됩니다.\n",
      "-----------------------------------------------------------------\n",
      "학번: 18199333\n",
      "잘못 입력하였습니다\n"
     ]
    }
   ],
   "source": [
    "student() #학과 잘못입력"
   ]
  },
  {
   "cell_type": "code",
   "execution_count": 8,
   "metadata": {},
   "outputs": [
    {
     "name": "stdout",
     "output_type": "stream",
     "text": [
      "enter키를 입력하면 종료됩니다.\n",
      "-----------------------------------------------------------------\n",
      "학번: 1819934sss\n",
      "잘못 입력하였습니다\n"
     ]
    }
   ],
   "source": [
    "student() # 휴학 잘못입력"
   ]
  },
  {
   "cell_type": "code",
   "execution_count": 9,
   "metadata": {},
   "outputs": [
    {
     "name": "stdout",
     "output_type": "stream",
     "text": [
      "enter키를 입력하면 종료됩니다.\n",
      "-----------------------------------------------------------------\n",
      "학번: 18199s4\n",
      "잘못 입력하였습니다\n"
     ]
    }
   ],
   "source": [
    "student() # 6학년 초과 예외처리"
   ]
  },
  {
   "cell_type": "code",
   "execution_count": null,
   "metadata": {},
   "outputs": [],
   "source": []
  }
 ],
 "metadata": {
  "kernelspec": {
   "display_name": "Python 3",
   "language": "python",
   "name": "python3"
  },
  "language_info": {
   "codemirror_mode": {
    "name": "ipython",
    "version": 3
   },
   "file_extension": ".py",
   "mimetype": "text/x-python",
   "name": "python",
   "nbconvert_exporter": "python",
   "pygments_lexer": "ipython3",
   "version": "3.7.6"
  }
 },
 "nbformat": 4,
 "nbformat_minor": 4
}
