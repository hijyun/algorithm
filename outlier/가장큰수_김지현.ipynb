{
 "cells": [
  {
   "cell_type": "markdown",
   "metadata": {},
   "source": [
    "# 가장 큰 수 \n",
    "### 문제 설명\n",
    "0 또는 양의 정수가 주어졌을 때, 정수를 이어 붙여 만들 수 있는 가장 큰 수를 알아내 주세요.\n",
    "예를 들어, 주어진 정수가 [6, 10, 2]라면 [6102, 6210, 1062, 1026, 2610, 2106]를 만들 수 있고, 이중 가장 큰 수는 6210입니다.\n",
    "0 또는 양의 정수가 담긴 배열 numbers가 매개변수로 주어질 때, 순서를 재배치하여 만들 수 있는 가장 큰 수를 문자열로 바꾸어 return 하도록 solution 함수를 작성해주세요.\n",
    "\n",
    "### 제한 사항\n",
    "numbers의 길이는 1 이상 100,000 이하입니다.\n",
    "numbers의 원소는 0 이상 1,000 이하입니다.\n",
    "정답이 너무 클 수 있으니 문자열로 바꾸어 return 합니다.\n",
    "\n",
    "### 입출력 예\n",
    "numbers\t                return \n",
    "* [6, 10, 2]\t        6210 \n",
    "* [3, 30, 34, 5, 9]  \t9534330 "
   ]
  },
  {
   "cell_type": "code",
   "execution_count": 34,
   "metadata": {
    "id": "glDgOt3OQoL7"
   },
   "outputs": [],
   "source": [
    "def mnum():\n",
    "    a =[]\n",
    "    nl = list(input('공백기준 숫자 input : ' ).split(' '))\n",
    "    maxlen = max(list(map(len,nl)))\n",
    "    for i,n in enumerate(nl):\n",
    "        if len(n) == 1:\n",
    "            n = n *(maxlen-len(n)+1)\n",
    "        else:\n",
    "            n = n + ('0'*(maxlen-len(n)))\n",
    "        a.append((i,n))\n",
    "        a.sort(key= lambda x : x[1], reverse=True)\n",
    "    print('Output : ', ''.join([nl[k] for k,_ in a]))"
   ]
  },
  {
   "cell_type": "code",
   "execution_count": 35,
   "metadata": {
    "colab": {
     "base_uri": "https://localhost:8080/",
     "height": 0
    },
    "id": "yP2k4Y_66jZY",
    "outputId": "0a16035b-5b60-432c-cc8e-4d8884ea7440"
   },
   "outputs": [
    {
     "name": "stdout",
     "output_type": "stream",
     "text": [
      "공백기준 숫자 input : 451 5413\n",
      "Output :  5413451\n"
     ]
    }
   ],
   "source": [
    "mnum()"
   ]
  },
  {
   "cell_type": "code",
   "execution_count": 25,
   "metadata": {
    "colab": {
     "base_uri": "https://localhost:8080/",
     "height": 0
    },
    "id": "QKw1xTVx6kqq",
    "outputId": "4be0b0c3-d6c2-48de-e472-433f8a599524"
   },
   "outputs": [
    {
     "name": "stdout",
     "output_type": "stream",
     "text": [
      "공백기준 숫자 input : 10\n",
      "Output :  10\n"
     ]
    }
   ],
   "source": [
    "mnum()"
   ]
  },
  {
   "cell_type": "code",
   "execution_count": 27,
   "metadata": {},
   "outputs": [
    {
     "name": "stdout",
     "output_type": "stream",
     "text": [
      "공백기준 숫자 input : 30 3 34\n",
      "Output :  34330\n"
     ]
    }
   ],
   "source": [
    "mnum()"
   ]
  },
  {
   "cell_type": "markdown",
   "metadata": {},
   "source": [
    "# 더 나은 풀이"
   ]
  },
  {
   "cell_type": "code",
   "execution_count": 15,
   "metadata": {},
   "outputs": [],
   "source": [
    "def solution(numbers):\n",
    "    numbers = list(map(str, numbers))\n",
    "    numbers.sort(key=lambda x: x*3, reverse=True)\n",
    "    return str(int(''.join(numbers)))"
   ]
  },
  {
   "cell_type": "code",
   "execution_count": null,
   "metadata": {},
   "outputs": [],
   "source": []
  }
 ],
 "metadata": {
  "colab": {
   "name": "가장큰수_김지현.ipynb",
   "provenance": []
  },
  "kernelspec": {
   "display_name": "Python 3",
   "language": "python",
   "name": "python3"
  },
  "language_info": {
   "codemirror_mode": {
    "name": "ipython",
    "version": 3
   },
   "file_extension": ".py",
   "mimetype": "text/x-python",
   "name": "python",
   "nbconvert_exporter": "python",
   "pygments_lexer": "ipython3",
   "version": "3.7.6"
  }
 },
 "nbformat": 4,
 "nbformat_minor": 1
}
