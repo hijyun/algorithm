{
 "cells": [
  {
   "cell_type": "code",
   "execution_count": 2,
   "metadata": {},
   "outputs": [],
   "source": [
    "from numpy import dot\n",
    "from numpy.linalg import norm\n",
    "import numpy as np\n",
    "import pandas as pd\n",
    "from konlpy.tag import Hannanum\n",
    "from sklearn.feature_extraction.text import CountVectorizer\n",
    "from sklearn.feature_extraction.text import TfidfVectorizer\n",
    "from sklearn.metrics.pairwise import linear_kernel\n",
    "import numpy as np"
   ]
  },
  {
   "cell_type": "code",
   "execution_count": 3,
   "metadata": {},
   "outputs": [
    {
     "data": {
      "text/html": [
       "<div>\n",
       "<style scoped>\n",
       "    .dataframe tbody tr th:only-of-type {\n",
       "        vertical-align: middle;\n",
       "    }\n",
       "\n",
       "    .dataframe tbody tr th {\n",
       "        vertical-align: top;\n",
       "    }\n",
       "\n",
       "    .dataframe thead th {\n",
       "        text-align: right;\n",
       "    }\n",
       "</style>\n",
       "<table border=\"1\" class=\"dataframe\">\n",
       "  <thead>\n",
       "    <tr style=\"text-align: right;\">\n",
       "      <th></th>\n",
       "      <th>대분류</th>\n",
       "      <th>중분류</th>\n",
       "      <th>소분류</th>\n",
       "      <th>세분류</th>\n",
       "      <th>능력단위</th>\n",
       "      <th>능력단위요소</th>\n",
       "    </tr>\n",
       "  </thead>\n",
       "  <tbody>\n",
       "    <tr>\n",
       "      <th>0</th>\n",
       "      <td>사업관리</td>\n",
       "      <td>사업관리</td>\n",
       "      <td>프로젝트 관리</td>\n",
       "      <td>공적개발원조 사업관리</td>\n",
       "      <td>공적개발원조사업 개발전략수립</td>\n",
       "      <td>협력대상국 개발환경 분석하기</td>\n",
       "    </tr>\n",
       "    <tr>\n",
       "      <th>1</th>\n",
       "      <td>사업관리</td>\n",
       "      <td>사업관리</td>\n",
       "      <td>프로젝트 관리</td>\n",
       "      <td>공적개발원조 사업관리</td>\n",
       "      <td>공적개발원조사업 개발전략수립</td>\n",
       "      <td>자국협력환경 분석하기</td>\n",
       "    </tr>\n",
       "    <tr>\n",
       "      <th>2</th>\n",
       "      <td>사업관리</td>\n",
       "      <td>사업관리</td>\n",
       "      <td>프로젝트 관리</td>\n",
       "      <td>공적개발원조 사업관리</td>\n",
       "      <td>공적개발원조사업 개발전략수립</td>\n",
       "      <td>협력대상국 지원전략 수립하기</td>\n",
       "    </tr>\n",
       "    <tr>\n",
       "      <th>3</th>\n",
       "      <td>사업관리</td>\n",
       "      <td>사업관리</td>\n",
       "      <td>프로젝트 관리</td>\n",
       "      <td>공적개발원조 사업관리</td>\n",
       "      <td>공적개발원조사업 사업기획</td>\n",
       "      <td>협력대상국 개발전략 분석하기</td>\n",
       "    </tr>\n",
       "    <tr>\n",
       "      <th>4</th>\n",
       "      <td>사업관리</td>\n",
       "      <td>사업관리</td>\n",
       "      <td>프로젝트 관리</td>\n",
       "      <td>공적개발원조 사업관리</td>\n",
       "      <td>공적개발원조사업 사업기획</td>\n",
       "      <td>사업타당성 조사하기</td>\n",
       "    </tr>\n",
       "  </tbody>\n",
       "</table>\n",
       "</div>"
      ],
      "text/plain": [
       "    대분류   중분류      소분류          세분류             능력단위           능력단위요소\n",
       "0  사업관리  사업관리  프로젝트 관리  공적개발원조 사업관리  공적개발원조사업 개발전략수립  협력대상국 개발환경 분석하기\n",
       "1  사업관리  사업관리  프로젝트 관리  공적개발원조 사업관리  공적개발원조사업 개발전략수립      자국협력환경 분석하기\n",
       "2  사업관리  사업관리  프로젝트 관리  공적개발원조 사업관리  공적개발원조사업 개발전략수립  협력대상국 지원전략 수립하기\n",
       "3  사업관리  사업관리  프로젝트 관리  공적개발원조 사업관리    공적개발원조사업 사업기획  협력대상국 개발전략 분석하기\n",
       "4  사업관리  사업관리  프로젝트 관리  공적개발원조 사업관리    공적개발원조사업 사업기획       사업타당성 조사하기"
      ]
     },
     "execution_count": 3,
     "metadata": {},
     "output_type": "execute_result"
    }
   ],
   "source": [
    "df_ncs = pd.read_excel('ncs_original.xlsx',encoding='cp949')\n",
    "df_ncs.head()"
   ]
  },
  {
   "cell_type": "code",
   "execution_count": 52,
   "metadata": {},
   "outputs": [],
   "source": [
    "df = df_ncs[['세분류','능력단위요소']]"
   ]
  },
  {
   "cell_type": "code",
   "execution_count": 53,
   "metadata": {},
   "outputs": [
    {
     "name": "stderr",
     "output_type": "stream",
     "text": [
      "C:\\ProgramData\\Anaconda3\\lib\\site-packages\\ipykernel_launcher.py:1: SettingWithCopyWarning: \n",
      "A value is trying to be set on a copy of a slice from a DataFrame.\n",
      "Try using .loc[row_indexer,col_indexer] = value instead\n",
      "\n",
      "See the caveats in the documentation: https://pandas.pydata.org/pandas-docs/stable/user_guide/indexing.html#returning-a-view-versus-a-copy\n",
      "  \"\"\"Entry point for launching an IPython kernel.\n"
     ]
    }
   ],
   "source": [
    "df['능력단위요소'] = df['능력단위요소']+' ' #맨 마지막에 공백추가"
   ]
  },
  {
   "cell_type": "code",
   "execution_count": 54,
   "metadata": {},
   "outputs": [
    {
     "data": {
      "text/html": [
       "<div>\n",
       "<style scoped>\n",
       "    .dataframe tbody tr th:only-of-type {\n",
       "        vertical-align: middle;\n",
       "    }\n",
       "\n",
       "    .dataframe tbody tr th {\n",
       "        vertical-align: top;\n",
       "    }\n",
       "\n",
       "    .dataframe thead th {\n",
       "        text-align: right;\n",
       "    }\n",
       "</style>\n",
       "<table border=\"1\" class=\"dataframe\">\n",
       "  <thead>\n",
       "    <tr style=\"text-align: right;\">\n",
       "      <th></th>\n",
       "      <th>세분류</th>\n",
       "      <th>능력단위요소</th>\n",
       "    </tr>\n",
       "  </thead>\n",
       "  <tbody>\n",
       "    <tr>\n",
       "      <th>0</th>\n",
       "      <td>3D 프린터 개발</td>\n",
       "      <td>시장 조사하기 법규 검토하기 기술방식 비교하기 기술방식 선정하기 원가 분석하기 개발...</td>\n",
       "    </tr>\n",
       "    <tr>\n",
       "      <th>1</th>\n",
       "      <td>3D 프린터용 제품 제작</td>\n",
       "      <td>시장동향 분석하기 수요조사하기 사업성 검토하기 기획ㅈ품 설정하기 디자인 결정하기 출...</td>\n",
       "    </tr>\n",
       "    <tr>\n",
       "      <th>2</th>\n",
       "      <td>CAM</td>\n",
       "      <td>작업계획 수립하기 공정 · 작업내용 계획하기 장비 · 인원 배분하기 도면 결정하기 ...</td>\n",
       "    </tr>\n",
       "    <tr>\n",
       "      <th>3</th>\n",
       "      <td>CO2용접</td>\n",
       "      <td>용접작업 안전수칙 파악하기 용접작업장 주변 정리 상태 점검하기 용접 안전보호구 점검...</td>\n",
       "    </tr>\n",
       "    <tr>\n",
       "      <th>4</th>\n",
       "      <td>DB엔지니어링</td>\n",
       "      <td>데이터 요구사항 수집하기 데이터 요구사항 분석하기 데이터 요구사항 정의하기 데이터 ...</td>\n",
       "    </tr>\n",
       "    <tr>\n",
       "      <th>...</th>\n",
       "      <td>...</td>\n",
       "      <td>...</td>\n",
       "    </tr>\n",
       "    <tr>\n",
       "      <th>892</th>\n",
       "      <td>환경조사분석</td>\n",
       "      <td>조사요구사항 파악하기 조사관련 법규 파악하기 조사범위 설정하기 조사 수행계획 수립하...</td>\n",
       "    </tr>\n",
       "    <tr>\n",
       "      <th>893</th>\n",
       "      <td>환경컨설팅</td>\n",
       "      <td>사업수요 조사하기 사업타당성 평가하기 사업계획서 작성하기 컨설팅 요구분석 하기 프로...</td>\n",
       "    </tr>\n",
       "    <tr>\n",
       "      <th>894</th>\n",
       "      <td>회계·감사</td>\n",
       "      <td>회계상 거래 인식하기 전표 작성하기 증빙서류 관리하기 현금시재 관리하기 예금 관리하...</td>\n",
       "    </tr>\n",
       "    <tr>\n",
       "      <th>895</th>\n",
       "      <td>회의기획</td>\n",
       "      <td>유치 대상 회의 파악하기 유치 대상 회의 확정하기 유치 대상 회의 관련정보 수집하기...</td>\n",
       "    </tr>\n",
       "    <tr>\n",
       "      <th>896</th>\n",
       "      <td>후가공</td>\n",
       "      <td>작업장 환경 조성하기 설비기기 안전 준수하기 화학 물질 안전 준수하기 공정별 운반시...</td>\n",
       "    </tr>\n",
       "  </tbody>\n",
       "</table>\n",
       "<p>897 rows × 2 columns</p>\n",
       "</div>"
      ],
      "text/plain": [
       "               세분류                                             능력단위요소\n",
       "0        3D 프린터 개발  시장 조사하기 법규 검토하기 기술방식 비교하기 기술방식 선정하기 원가 분석하기 개발...\n",
       "1    3D 프린터용 제품 제작  시장동향 분석하기 수요조사하기 사업성 검토하기 기획ㅈ품 설정하기 디자인 결정하기 출...\n",
       "2              CAM  작업계획 수립하기 공정 · 작업내용 계획하기 장비 · 인원 배분하기 도면 결정하기 ...\n",
       "3            CO2용접  용접작업 안전수칙 파악하기 용접작업장 주변 정리 상태 점검하기 용접 안전보호구 점검...\n",
       "4          DB엔지니어링  데이터 요구사항 수집하기 데이터 요구사항 분석하기 데이터 요구사항 정의하기 데이터 ...\n",
       "..             ...                                                ...\n",
       "892         환경조사분석  조사요구사항 파악하기 조사관련 법규 파악하기 조사범위 설정하기 조사 수행계획 수립하...\n",
       "893          환경컨설팅  사업수요 조사하기 사업타당성 평가하기 사업계획서 작성하기 컨설팅 요구분석 하기 프로...\n",
       "894          회계·감사  회계상 거래 인식하기 전표 작성하기 증빙서류 관리하기 현금시재 관리하기 예금 관리하...\n",
       "895           회의기획  유치 대상 회의 파악하기 유치 대상 회의 확정하기 유치 대상 회의 관련정보 수집하기...\n",
       "896            후가공  작업장 환경 조성하기 설비기기 안전 준수하기 화학 물질 안전 준수하기 공정별 운반시...\n",
       "\n",
       "[897 rows x 2 columns]"
      ]
     },
     "execution_count": 54,
     "metadata": {},
     "output_type": "execute_result"
    }
   ],
   "source": [
    "df = df.groupby('세분류').sum()\n",
    "df = df.reset_index()\n",
    "df"
   ]
  },
  {
   "cell_type": "code",
   "execution_count": 62,
   "metadata": {},
   "outputs": [],
   "source": [
    "df_final.to_excel('ncs_final_of_final.xlsx',index=False)"
   ]
  },
  {
   "cell_type": "code",
   "execution_count": 60,
   "metadata": {},
   "outputs": [
    {
     "data": {
      "text/plain": [
       "(897, 5)"
      ]
     },
     "execution_count": 60,
     "metadata": {},
     "output_type": "execute_result"
    }
   ],
   "source": [
    "df_final.shape"
   ]
  },
  {
   "cell_type": "markdown",
   "metadata": {},
   "source": []
  },
  {
   "cell_type": "code",
   "execution_count": 74,
   "metadata": {},
   "outputs": [
    {
     "data": {
      "text/html": [
       "<div>\n",
       "<style scoped>\n",
       "    .dataframe tbody tr th:only-of-type {\n",
       "        vertical-align: middle;\n",
       "    }\n",
       "\n",
       "    .dataframe tbody tr th {\n",
       "        vertical-align: top;\n",
       "    }\n",
       "\n",
       "    .dataframe thead th {\n",
       "        text-align: right;\n",
       "    }\n",
       "</style>\n",
       "<table border=\"1\" class=\"dataframe\">\n",
       "  <thead>\n",
       "    <tr style=\"text-align: right;\">\n",
       "      <th></th>\n",
       "      <th>jobname</th>\n",
       "      <th>capability</th>\n",
       "    </tr>\n",
       "  </thead>\n",
       "  <tbody>\n",
       "    <tr>\n",
       "      <th>0</th>\n",
       "      <td>3D 프린터 개발</td>\n",
       "      <td>[시장 조사하기, 법규 검토하기, 기술방식 비교하기, 기술방식 선정하기, 원가 분석...</td>\n",
       "    </tr>\n",
       "    <tr>\n",
       "      <th>1</th>\n",
       "      <td>3D 프린터용 제품 제작</td>\n",
       "      <td>[시장동향 분석하기, 수요조사하기, 사업성 검토하기, 기획ㅈ품 설정하기, 디자인 결...</td>\n",
       "    </tr>\n",
       "    <tr>\n",
       "      <th>2</th>\n",
       "      <td>CAM</td>\n",
       "      <td>[작업계획 수립하기, 공정 · 작업내용 계획하기, 장비 · 인원 배분하기, 도면 결...</td>\n",
       "    </tr>\n",
       "    <tr>\n",
       "      <th>3</th>\n",
       "      <td>CO2용접</td>\n",
       "      <td>[용접작업 안전수칙 파악하기, 용접작업장 주변 정리 상태 점검하기, 용접 안전보호구...</td>\n",
       "    </tr>\n",
       "    <tr>\n",
       "      <th>4</th>\n",
       "      <td>DB엔지니어링</td>\n",
       "      <td>[데이터 요구사항 수집하기, 데이터 요구사항 분석하기, 데이터 요구사항 정의하기, ...</td>\n",
       "    </tr>\n",
       "    <tr>\n",
       "      <th>...</th>\n",
       "      <td>...</td>\n",
       "      <td>...</td>\n",
       "    </tr>\n",
       "    <tr>\n",
       "      <th>892</th>\n",
       "      <td>환경조사분석</td>\n",
       "      <td>[조사요구사항 파악하기, 조사관련 법규 파악하기, 조사범위 설정하기, 조사 수행계획...</td>\n",
       "    </tr>\n",
       "    <tr>\n",
       "      <th>893</th>\n",
       "      <td>환경컨설팅</td>\n",
       "      <td>[사업수요 조사하기, 사업타당성 평가하기, 사업계획서 작성하기, 컨설팅 요구분석 하...</td>\n",
       "    </tr>\n",
       "    <tr>\n",
       "      <th>894</th>\n",
       "      <td>회계·감사</td>\n",
       "      <td>[회계상 거래 인식하기, 전표 작성하기, 증빙서류 관리하기, 현금시재 관리하기, 예...</td>\n",
       "    </tr>\n",
       "    <tr>\n",
       "      <th>895</th>\n",
       "      <td>회의기획</td>\n",
       "      <td>[유치 대상 회의 파악하기, 유치 대상 회의 확정하기, 유치 대상 회의 관련정보 수...</td>\n",
       "    </tr>\n",
       "    <tr>\n",
       "      <th>896</th>\n",
       "      <td>후가공</td>\n",
       "      <td>[작업장 환경 조성하기, 설비기기 안전 준수하기, 화학 물질 안전 준수하기, 공정별...</td>\n",
       "    </tr>\n",
       "  </tbody>\n",
       "</table>\n",
       "<p>897 rows × 2 columns</p>\n",
       "</div>"
      ],
      "text/plain": [
       "           jobname                                         capability\n",
       "0        3D 프린터 개발  [시장 조사하기, 법규 검토하기, 기술방식 비교하기, 기술방식 선정하기, 원가 분석...\n",
       "1    3D 프린터용 제품 제작  [시장동향 분석하기, 수요조사하기, 사업성 검토하기, 기획ㅈ품 설정하기, 디자인 결...\n",
       "2              CAM  [작업계획 수립하기, 공정 · 작업내용 계획하기, 장비 · 인원 배분하기, 도면 결...\n",
       "3            CO2용접  [용접작업 안전수칙 파악하기, 용접작업장 주변 정리 상태 점검하기, 용접 안전보호구...\n",
       "4          DB엔지니어링  [데이터 요구사항 수집하기, 데이터 요구사항 분석하기, 데이터 요구사항 정의하기, ...\n",
       "..             ...                                                ...\n",
       "892         환경조사분석  [조사요구사항 파악하기, 조사관련 법규 파악하기, 조사범위 설정하기, 조사 수행계획...\n",
       "893          환경컨설팅  [사업수요 조사하기, 사업타당성 평가하기, 사업계획서 작성하기, 컨설팅 요구분석 하...\n",
       "894          회계·감사  [회계상 거래 인식하기, 전표 작성하기, 증빙서류 관리하기, 현금시재 관리하기, 예...\n",
       "895           회의기획  [유치 대상 회의 파악하기, 유치 대상 회의 확정하기, 유치 대상 회의 관련정보 수...\n",
       "896            후가공  [작업장 환경 조성하기, 설비기기 안전 준수하기, 화학 물질 안전 준수하기, 공정별...\n",
       "\n",
       "[897 rows x 2 columns]"
      ]
     },
     "execution_count": 74,
     "metadata": {},
     "output_type": "execute_result"
    }
   ],
   "source": [
    "df_ncs['capability'].groupby([df_ncs.jobname]).apply(list).reset_index()"
   ]
  }
 ],
 "metadata": {
  "kernelspec": {
   "display_name": "Python 3",
   "language": "python",
   "name": "python3"
  },
  "language_info": {
   "codemirror_mode": {
    "name": "ipython",
    "version": 3
   },
   "file_extension": ".py",
   "mimetype": "text/x-python",
   "name": "python",
   "nbconvert_exporter": "python",
   "pygments_lexer": "ipython3",
   "version": "3.7.6"
  }
 },
 "nbformat": 4,
 "nbformat_minor": 4
}
