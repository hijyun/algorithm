{
 "cells": [
  {
   "cell_type": "code",
   "execution_count": 34,
   "metadata": {
    "id": "glDgOt3OQoL7"
   },
   "outputs": [],
   "source": [
    "def mnum():\n",
    "    a =[]\n",
    "    nl = list(input('공백기준 숫자 input : ' ).split(' '))\n",
    "    maxlen = max(list(map(len,nl)))\n",
    "    for i,n in enumerate(nl):\n",
    "        if len(n) == 1:\n",
    "            n = n *(maxlen-len(n)+1)\n",
    "        else:\n",
    "            n = n + ('0'*(maxlen-len(n)))\n",
    "        a.append((i,n))\n",
    "        a.sort(key= lambda x : x[1], reverse=True)\n",
    "    print('Output : ', ''.join([nl[k] for k,_ in a]))"
   ]
  },
  {
   "cell_type": "code",
   "execution_count": 35,
   "metadata": {
    "colab": {
     "base_uri": "https://localhost:8080/",
     "height": 0
    },
    "id": "yP2k4Y_66jZY",
    "outputId": "0a16035b-5b60-432c-cc8e-4d8884ea7440"
   },
   "outputs": [
    {
     "name": "stdout",
     "output_type": "stream",
     "text": [
      "공백기준 숫자 input : 451 5413\n",
      "Output :  5413451\n"
     ]
    }
   ],
   "source": [
    "mnum()"
   ]
  },
  {
   "cell_type": "code",
   "execution_count": 25,
   "metadata": {
    "colab": {
     "base_uri": "https://localhost:8080/",
     "height": 0
    },
    "id": "QKw1xTVx6kqq",
    "outputId": "4be0b0c3-d6c2-48de-e472-433f8a599524"
   },
   "outputs": [
    {
     "name": "stdout",
     "output_type": "stream",
     "text": [
      "공백기준 숫자 input : 10\n",
      "Output :  10\n"
     ]
    }
   ],
   "source": [
    "mnum()"
   ]
  },
  {
   "cell_type": "code",
   "execution_count": 27,
   "metadata": {},
   "outputs": [
    {
     "name": "stdout",
     "output_type": "stream",
     "text": [
      "공백기준 숫자 input : 30 3 34\n",
      "Output :  34330\n"
     ]
    }
   ],
   "source": [
    "mnum()"
   ]
  },
  {
   "cell_type": "markdown",
   "metadata": {},
   "source": [
    "# 좀 더 간단한 방법"
   ]
  },
  {
   "cell_type": "code",
   "execution_count": 15,
   "metadata": {},
   "outputs": [],
   "source": [
    "def mnum():\n",
    "    a = list(input('공백기준 숫자 input : ' ).split(' '))\n",
    "    a.sort(key= lambda x : x*3, reverse=True)\n",
    "    print('Output : ', ''.join(a))"
   ]
  },
  {
   "cell_type": "code",
   "execution_count": 16,
   "metadata": {},
   "outputs": [
    {
     "name": "stdout",
     "output_type": "stream",
     "text": [
      "공백기준 숫자 input : 3 5 8 7 \n",
      "Output :  8753\n"
     ]
    }
   ],
   "source": [
    "mnum()"
   ]
  },
  {
   "cell_type": "code",
   "execution_count": 18,
   "metadata": {},
   "outputs": [
    {
     "name": "stdout",
     "output_type": "stream",
     "text": [
      "공백기준 숫자 input : 999 998 777\n",
      "Output :  999998777\n"
     ]
    }
   ],
   "source": [
    "mnum()"
   ]
  },
  {
   "cell_type": "code",
   "execution_count": null,
   "metadata": {},
   "outputs": [],
   "source": []
  }
 ],
 "metadata": {
  "colab": {
   "name": "가장큰수_김지현.ipynb",
   "provenance": []
  },
  "kernelspec": {
   "display_name": "Python 3",
   "language": "python",
   "name": "python3"
  },
  "language_info": {
   "codemirror_mode": {
    "name": "ipython",
    "version": 3
   },
   "file_extension": ".py",
   "mimetype": "text/x-python",
   "name": "python",
   "nbconvert_exporter": "python",
   "pygments_lexer": "ipython3",
   "version": "3.7.6"
  }
 },
 "nbformat": 4,
 "nbformat_minor": 1
}
