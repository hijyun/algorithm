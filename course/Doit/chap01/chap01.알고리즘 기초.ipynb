{
 "cells": [
  {
   "cell_type": "markdown",
   "id": "889193c3",
   "metadata": {},
   "source": [
    "# 알고리즘"
   ]
  },
  {
   "cell_type": "markdown",
   "id": "face1dc0",
   "metadata": {},
   "source": [
    "- 순차 구조 sequential structure : 한 문장씩 순서대로 처리되는 구조\n",
    "- 선택 구조 select structure : 조건식으로 평가한 결과에 따라 프로그램의 실행 흐름이 변경되는 구조"
   ]
  },
  {
   "cell_type": "markdown",
   "id": "28d5fcf4",
   "metadata": {},
   "source": [
    "<PEP 8>\n",
    "* 클래스명은 카멜 케이스(CamelCase) 형식 : 대문자로 시작하고, 명사를 사용\n",
    "* 함수명은 스네이크(snake_case) 형식 : 모두 소문자로 표기하되, 단어 간에는 underscore(_)로 구"
   ]
  },
  {
   "cell_type": "markdown",
   "id": "8a327d5c",
   "metadata": {},
   "source": [
    "## 세 정수의 최댓값 구하기"
   ]
  },
  {
   "cell_type": "code",
   "execution_count": 2,
   "id": "62f395e5",
   "metadata": {},
   "outputs": [
    {
     "name": "stdout",
     "output_type": "stream",
     "text": [
      "세 정수의 최댓값을 구합니다.\n",
      "정수 a의 값을 입력하세요 : 1\n",
      "정수 b의 값을 입력하세요 : 2\n",
      "정수 c의 값을 입력하세요 : 3\n",
      "최댓값은 3입니다.\n"
     ]
    }
   ],
   "source": [
    "# 세 정수의 최댓값 구하기\n",
    "print('세 정수의 최댓값을 구합니다.')\n",
    "a = int(input('정수 a의 값을 입력하세요 : '))\n",
    "b = int(input('정수 b의 값을 입력하세요 : '))\n",
    "c = int(input('정수 c의 값을 입력하세요 : '))\n",
    "\n",
    "maximum = a\n",
    "if b > maximum: maximum = b\n",
    "if c > maximum: maximum = c\n",
    "\n",
    "print(f'최댓값은 {maximum}입니다.')\n"
   ]
  },
  {
   "cell_type": "code",
   "execution_count": 5,
   "id": "f0680b8a",
   "metadata": {},
   "outputs": [],
   "source": [
    "def max3(a, b, c):\n",
    "    \"\"\"a,b,c의 최댓값을 구하여 반환\"\"\"\n",
    "    maximum = a\n",
    "    if b > maximum: maximum = b\n",
    "    if c > maximum: maximum = c\n",
    "    return maximum"
   ]
  },
  {
   "cell_type": "code",
   "execution_count": 6,
   "id": "f8152063",
   "metadata": {},
   "outputs": [
    {
     "name": "stdout",
     "output_type": "stream",
     "text": [
      "max(3,2,1) = 3\n"
     ]
    }
   ],
   "source": [
    "print(f'max(3,2,1) = {max3(3,2,1)}')"
   ]
  },
  {
   "cell_type": "markdown",
   "id": "b82a3916",
   "metadata": {},
   "source": [
    "## 문자열과 숫자 입력 받기"
   ]
  },
  {
   "cell_type": "code",
   "execution_count": 4,
   "id": "1cba185a",
   "metadata": {},
   "outputs": [
    {
     "name": "stdout",
     "output_type": "stream",
     "text": [
      "이름을 입력하세요 : 박서진\n",
      "안녕하세요? 박서진님\n"
     ]
    }
   ],
   "source": [
    "# 이름을 입력받아 인사하기\n",
    "name = input('이름을 입력하세요 : ')\n",
    "print(f'안녕하세요? {name}님')"
   ]
  },
  {
   "cell_type": "markdown",
   "id": "4fd8a203",
   "metadata": {},
   "source": [
    "## 세 정수의 중앙값 구하기"
   ]
  },
  {
   "cell_type": "code",
   "execution_count": 7,
   "id": "08dc516e",
   "metadata": {},
   "outputs": [],
   "source": [
    "def med3(a, b, c):\n",
    "    \"\"\"a,b,c의 중앙값을 구하여 반환\"\"\"\n",
    "    if a >= b:\n",
    "        if b >= c:\n",
    "            return b\n",
    "        elif a <= c:\n",
    "            return a\n",
    "        else:\n",
    "            return c\n",
    "    elif a > c:\n",
    "        return a\n",
    "    elif b > c:\n",
    "        return c\n",
    "    else:\n",
    "        return b"
   ]
  },
  {
   "cell_type": "code",
   "execution_count": 10,
   "id": "508f0784",
   "metadata": {},
   "outputs": [
    {
     "name": "stdout",
     "output_type": "stream",
     "text": [
      "세 정수의 중앙값을 구합니다.\n",
      "정수 a의 값을 입력하세요.1\n",
      "정수 b의 값을 입력하세요.2\n",
      "정수 c의 값을 입력하세요.3\n",
      "중앙값은 2입니다.\n"
     ]
    }
   ],
   "source": [
    "print('세 정수의 중앙값을 구합니다.')\n",
    "a = int(input('정수 a의 값을 입력하세요.'))\n",
    "b = int(input('정수 b의 값을 입력하세요.'))\n",
    "c = int(input('정수 c의 값을 입력하세요.'))\n",
    "\n",
    "print(f'중앙값은 {med3(a, b, c)}입니다.')"
   ]
  },
  {
   "cell_type": "code",
   "execution_count": 11,
   "id": "7c41a563",
   "metadata": {
    "lines_to_next_cell": 0
   },
   "outputs": [],
   "source": [
    "# 세 정수를 입력받아 중앙값 구하기 2\n",
    "\n",
    "def med3(a, b, c):\n",
    "    \"\"\"a, b, c의 중앙값을 구하여 반환(다른 방법)\"\"\"\n",
    "    if (b >= a and c <= a) or (b <= a and c >= a):\n",
    "        return a\n",
    "    elif (a > b and c < b) or (a < c and c > b):\n",
    "        return b\n",
    "    return c"
   ]
  },
  {
   "cell_type": "markdown",
   "id": "55b50424",
   "metadata": {
    "collapsed": true,
    "lines_to_next_cell": 2
   },
   "source": [
    "# 반복하는 알고리즘\n",
    "    - 루프 본문 : 반복 대상이 되는 명령문\n",
    "    - 카운터용 변수 : 반복을 제어할 때 사용하는 변수 \n"
   ]
  },
  {
   "cell_type": "markdown",
   "id": "193faac3",
   "metadata": {},
   "source": [
    "* range()함수로 이터러블 객체 생성하기\n",
    "    - 이터러블 객체 : 반복할 수 있는 객체.\n",
    "    - 이터러블 자료형 : list, str, tuple."
   ]
  },
  {
   "cell_type": "markdown",
   "id": "cf4250d2",
   "metadata": {},
   "source": [
    "* 1부터 n까지 정수의 합 구하기"
   ]
  },
  {
   "cell_type": "code",
   "execution_count": 3,
   "id": "301e3cf3",
   "metadata": {},
   "outputs": [
    {
     "name": "stdout",
     "output_type": "stream",
     "text": [
      "1부터 n까지 정수의 합을 구합니다.\n",
      "n값을 입력하세요.: 100\n",
      "1부터 100까지 정수의 합은 5050입니다.\n"
     ]
    }
   ],
   "source": [
    "# 1부터 n까지 정수의 합 구하기 1(while문)\n",
    "\n",
    "print('1부터 n까지 정수의 합을 구합니다.')\n",
    "n = int(input('n값을 입력하세요.: '))\n",
    "\n",
    "sum = 0\n",
    "i = 1\n",
    "\n",
    "while i <= n:\n",
    "    sum += i\n",
    "    i += 1\n",
    "\n",
    "print(f'1부터 {n}까지 정수의 합은 {sum}입니다.')"
   ]
  },
  {
   "cell_type": "code",
   "execution_count": 5,
   "id": "4c519ed6",
   "metadata": {},
   "outputs": [
    {
     "name": "stdout",
     "output_type": "stream",
     "text": [
      "1부터 n까지 정수의 합을 구합니다.\n",
      "n값을 입력하세요.: 100\n",
      "1부터 100까지 정수의 합은 5050입니다.\n"
     ]
    }
   ],
   "source": [
    "# 1부터 n까지 정수의 합 구하기 2(for문)\n",
    "\n",
    "print('1부터 n까지 정수의 합을 구합니다.')\n",
    "n = int(input('n값을 입력하세요.: '))\n",
    "\n",
    "sum = 0\n",
    "for i in range(1, n + 1):\n",
    "    sum += i\n",
    "\n",
    "print(f'1부터 {n}까지 정수의 합은 {sum}입니다.')"
   ]
  },
  {
   "cell_type": "markdown",
   "id": "914698c1",
   "metadata": {},
   "source": [
    "* 연속하는 정수의 합을 구하기 위해 정렬하기"
   ]
  },
  {
   "cell_type": "code",
   "execution_count": 10,
   "id": "813f207a",
   "metadata": {},
   "outputs": [
    {
     "name": "stdout",
     "output_type": "stream",
     "text": [
      "a부터 b까지 정수의 합을 구합니다.\n",
      "정수 a를 입력하세요.: 3\n",
      "정수 b를 입력하세요.: 8\n",
      "3부터 8까지 정수의 합은 33입니다.\n"
     ]
    }
   ],
   "source": [
    "# a부터 b까지 정수의 합 구하기(for문)\n",
    "\n",
    "print('a부터 b까지 정수의 합을 구합니다.')\n",
    "a = int(input('정수 a를 입력하세요.: '))\n",
    "b = int(input('정수 b를 입력하세요.: '))\n",
    "\n",
    "if a > b:\n",
    "    a, b = b, a # a와 b를 오름차순으로 정렬\n",
    "    \n",
    "sum = 0\n",
    "for i in range(a,b + 1):\n",
    "    sum += i\n",
    "\n",
    "print(f'{a}부터 {b}까지 정수의 합은 {sum}입니다.') "
   ]
  },
  {
   "cell_type": "code",
   "execution_count": null,
   "id": "91b6eb6e",
   "metadata": {},
   "outputs": [],
   "source": []
  },
  {
   "cell_type": "code",
   "execution_count": null,
   "id": "3d71ccf1",
   "metadata": {},
   "outputs": [],
   "source": []
  },
  {
   "cell_type": "code",
   "execution_count": null,
   "id": "441fe8b3",
   "metadata": {},
   "outputs": [],
   "source": []
  },
  {
   "cell_type": "code",
   "execution_count": null,
   "id": "9fa20541",
   "metadata": {},
   "outputs": [],
   "source": []
  },
  {
   "cell_type": "code",
   "execution_count": null,
   "id": "a5c95822",
   "metadata": {},
   "outputs": [],
   "source": []
  },
  {
   "cell_type": "code",
   "execution_count": null,
   "id": "462c9402",
   "metadata": {},
   "outputs": [],
   "source": []
  },
  {
   "cell_type": "code",
   "execution_count": null,
   "id": "ffb01c5b",
   "metadata": {},
   "outputs": [],
   "source": []
  },
  {
   "cell_type": "code",
   "execution_count": null,
   "id": "54f0ca5b",
   "metadata": {},
   "outputs": [],
   "source": []
  },
  {
   "cell_type": "code",
   "execution_count": null,
   "id": "decbd8dc",
   "metadata": {},
   "outputs": [],
   "source": []
  }
 ],
 "metadata": {
  "jupytext": {
   "encoding": "# -*- coding: utf-8 -*-",
   "formats": "ipynb,py:light"
  },
  "kernelspec": {
   "display_name": "Python 3",
   "language": "python",
   "name": "python3"
  },
  "language_info": {
   "codemirror_mode": {
    "name": "ipython",
    "version": 3
   },
   "file_extension": ".py",
   "mimetype": "text/x-python",
   "name": "python",
   "nbconvert_exporter": "python",
   "pygments_lexer": "ipython3",
   "version": "3.8.8"
  }
 },
 "nbformat": 4,
 "nbformat_minor": 5
}